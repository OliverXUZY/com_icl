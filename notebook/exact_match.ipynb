{
 "cells": [
  {
   "cell_type": "code",
   "execution_count": 1,
   "metadata": {},
   "outputs": [
    {
     "name": "stderr",
     "output_type": "stream",
     "text": [
      "/Users/zyxu/opt/anaconda3/envs/lmeval/lib/python3.10/site-packages/tqdm/auto.py:21: TqdmWarning: IProgress not found. Please update jupyter and ipywidgets. See https://ipywidgets.readthedocs.io/en/stable/user_install.html\n",
      "  from .autonotebook import tqdm as notebook_tqdm\n",
      "/var/folders/ty/jhblv1051_98fkjk78b04ty80000gn/T/ipykernel_87535/801856092.py:2: FutureWarning: load_metric is deprecated and will be removed in the next major version of datasets. Use 'evaluate.load' instead, from the new library 🤗 Evaluate: https://huggingface.co/docs/evaluate\n",
      "  metric = load_metric(\"seq_acc\")\n",
      "Using the latest cached version of the module from /Users/zyxu/.cache/huggingface/modules/datasets_modules/metrics/seq_acc/c74873a94d691455e61c5c14af239f8666c8e38ede4dc3fe4b1b655ba5111dab (last modified on Wed Nov  8 11:05:07 2023) since it couldn't be found locally at seq_acc, or remotely on the Hugging Face Hub.\n"
     ]
    },
    {
     "name": "stdout",
     "output_type": "stream",
     "text": [
      "metric.name:  seq_acc\n",
      "{'accuracy': 0.25}\n",
      "exact_match.name:  exact_match\n",
      "{'exact_match': 0.25}\n"
     ]
    }
   ],
   "source": [
    "from datasets import load_metric\n",
    "metric = load_metric(\"seq_acc\")\n",
    "refs = [\"the cat\", \"theater\", \"YELLING\", \"agent007\"]\n",
    "preds = [\"cat?\", \"theater\", \"yelling\", \"agent\"]\n",
    "acc1 = metric.compute(predictions=preds, references=refs)\n",
    "print(\"metric.name: \", metric.name)\n",
    "print(acc1)\n",
    "\n",
    "import evaluate\n",
    "exact_match = evaluate.load(\"exact_match\")\n",
    "print(\"exact_match.name: \", exact_match.name)\n",
    "\n",
    "\n",
    "results = exact_match.compute(references=refs, predictions=preds)\n",
    "print(results)"
   ]
  },
  {
   "cell_type": "code",
   "execution_count": 4,
   "metadata": {},
   "outputs": [],
   "source": [
    "refs = [\"the cat\", \"theater\", \"YELLING\", \"agent007\", \"as\"]\n",
    "preds = [\"cat?\", \"theater\", \"yelling\", \"agent\"]"
   ]
  },
  {
   "cell_type": "code",
   "execution_count": 12,
   "metadata": {},
   "outputs": [
    {
     "name": "stdout",
     "output_type": "stream",
     "text": [
      "['cat?', 'theater', 'yelling', 'agent', '']\n"
     ]
    },
    {
     "data": {
      "text/plain": [
       "['the cat', 'theater', 'YELLING', 'agent007', 'as']"
      ]
     },
     "execution_count": 12,
     "metadata": {},
     "output_type": "execute_result"
    }
   ],
   "source": [
    "# Ensure both lists are of the same length by appending empty strings to the shorter list\n",
    "if len(refs) > len(preds):\n",
    "    preds.extend([\"\"] * (len(refs) - len(preds)))\n",
    "elif len(preds) > len(refs):\n",
    "    refs.extend([\"\"] * (len(preds) - len(refs)))\n",
    "print(preds)\n",
    "refs"
   ]
  },
  {
   "cell_type": "code",
   "execution_count": 13,
   "metadata": {},
   "outputs": [
    {
     "name": "stdout",
     "output_type": "stream",
     "text": [
      "{'exact_match': 0.2}\n"
     ]
    }
   ],
   "source": [
    "results = exact_match.compute(references=refs, predictions=preds)\n",
    "print(results)"
   ]
  },
  {
   "cell_type": "code",
   "execution_count": 11,
   "metadata": {},
   "outputs": [
    {
     "data": {
      "text/plain": [
       "0"
      ]
     },
     "execution_count": 11,
     "metadata": {},
     "output_type": "execute_result"
    }
   ],
   "source": [
    "len(preds[-1])"
   ]
  },
  {
   "cell_type": "code",
   "execution_count": 15,
   "metadata": {},
   "outputs": [
    {
     "data": {
      "text/plain": [
       "0.2"
      ]
     },
     "execution_count": 15,
     "metadata": {},
     "output_type": "execute_result"
    }
   ],
   "source": []
  },
  {
   "cell_type": "code",
   "execution_count": null,
   "metadata": {},
   "outputs": [],
   "source": [
    "results['exact_match']"
   ]
  },
  {
   "cell_type": "code",
   "execution_count": null,
   "metadata": {},
   "outputs": [],
   "source": []
  }
 ],
 "metadata": {
  "kernelspec": {
   "display_name": "lmeval",
   "language": "python",
   "name": "python3"
  },
  "language_info": {
   "codemirror_mode": {
    "name": "ipython",
    "version": 3
   },
   "file_extension": ".py",
   "mimetype": "text/x-python",
   "name": "python",
   "nbconvert_exporter": "python",
   "pygments_lexer": "ipython3",
   "version": "3.10.0"
  }
 },
 "nbformat": 4,
 "nbformat_minor": 2
}
