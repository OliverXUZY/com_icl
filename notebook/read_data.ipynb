{
 "cells": [
  {
   "cell_type": "code",
   "execution_count": 23,
   "metadata": {},
   "outputs": [],
   "source": [
    "import os\n",
    "os.chdir(\"/Users/zyxu/Documents/py/NLP/com_icl\")\n",
    "import json\n",
    "from datasets import load_dataset\n",
    "cache_dir = \"./cofe/cache\""
   ]
  },
  {
   "cell_type": "code",
   "execution_count": 24,
   "metadata": {},
   "outputs": [],
   "source": [
    "data_files = 'cofe/only_primitive_coverage.json'\n",
    "\n",
    "dataset = load_dataset(path = \"json\", data_files=data_files, cache_dir=cache_dir, split = \"train\")"
   ]
  },
  {
   "cell_type": "code",
   "execution_count": 25,
   "metadata": {},
   "outputs": [
    {
     "data": {
      "text/plain": [
       "Dataset({\n",
       "    features: ['context', 'ground_truth', 'category'],\n",
       "    num_rows: 4785\n",
       "})"
      ]
     },
     "execution_count": 25,
     "metadata": {},
     "output_type": "execute_result"
    }
   ],
   "source": [
    "dataset"
   ]
  },
  {
   "cell_type": "code",
   "execution_count": 26,
   "metadata": {},
   "outputs": [],
   "source": [
    "dataset2 = load_dataset(path = \"json\", data_dir=\"cofe/only_primitive_coverage\", cache_dir=cache_dir, split = \"train\")"
   ]
  },
  {
   "cell_type": "code",
   "execution_count": 27,
   "metadata": {},
   "outputs": [
    {
     "data": {
      "text/plain": [
       "Dataset({\n",
       "    features: ['context', 'ground_truth', 'category'],\n",
       "    num_rows: 4785\n",
       "})"
      ]
     },
     "execution_count": 27,
     "metadata": {},
     "output_type": "execute_result"
    }
   ],
   "source": [
    "dataset2"
   ]
  },
  {
   "cell_type": "code",
   "execution_count": 28,
   "metadata": {},
   "outputs": [
    {
     "data": {
      "text/plain": [
       "{'context': 'input: Paula\\noutput: PAULA\\n\\ninput: The girl needed to cook .\\noutput: NEED ( GIRL , NONE , NONE ) XCOMP COOK ( GIRL , NONE , NONE )\\n\\ninput: The captain ate .\\noutput: EAT ( CAPTAIN , NONE , NONE )\\n\\ninput: A cake was forwarded to Levi by Charlotte .\\noutput: FORWARD ( CHARLOTTE , CAKE , LEVI )\\n\\ninput: Evelyn rolled the girl .\\noutput: ROLL ( EVELYN , GIRL , NONE )\\n\\ninput: Emma rolled a teacher .\\noutput: ROLL ( EMMA , TEACHER , NONE )\\n\\ninput: A rose was helped by a dog .\\noutput: HELP ( DOG , ROSE , NONE )\\n\\ninput: The sailor dusted a boy .\\noutput: DUST ( SAILOR , BOY , NONE )\\n\\ninput: Luke gave a cat a hamburger in a closet .\\noutput: GIVE ( LUKE , IN ( HAMBURGER , CLOSET ) , CAT )\\n\\ninput: Liam painted a cake in the house .\\noutput: PAINT ( LIAM , IN ( CAKE , HOUSE ) , NONE )\\n\\ninput: Paula painted a cake in a closet .\\n',\n",
       " 'ground_truth': 'PAINT ( PAULA , IN ( CAKE , CLOSET ) , NONE )',\n",
       " 'category': 'Primitive Substitution'}"
      ]
     },
     "execution_count": 28,
     "metadata": {},
     "output_type": "execute_result"
    }
   ],
   "source": [
    "dataset[0]"
   ]
  },
  {
   "cell_type": "code",
   "execution_count": 29,
   "metadata": {},
   "outputs": [
    {
     "data": {
      "text/plain": [
       "{'context': 'input: A rose was helped by a dog .\\noutput: HELP ( DOG , ROSE , NONE )\\n\\ninput: Skylar gave the donut beside a bench to the girl .\\noutput: GIVE ( SKYLAR , BESIDE ( DONUT , BENCH ) , GIRL )\\n\\ninput: A girl threw the box on a book .\\noutput: THROW ( GIRL , ON ( BOX , BOOK ) , NONE )\\n\\ninput: The boy was given the donut in a cage .\\noutput: GIVE ( NONE , IN ( DONUT , CAGE ) , BOY )\\n\\ninput: The cat burned a cake on a road .\\noutput: BURN ( CAT , ON ( CAKE , ROAD ) , NONE )\\n\\ninput: Emma ate a donut in the vessel .\\noutput: EAT ( EMMA , IN ( DONUT , VESSEL ) , NONE )\\n\\ninput: Liam was given the strawberry in a cabinet .\\noutput: GIVE ( NONE , IN ( STRAWBERRY , CABINET ) , LIAM )\\n\\ninput: The girl was handed the drink beside a rock beside a shoe .\\noutput: HAND ( NONE , BESIDE ( DRINK , BESIDE ( ROCK , SHOE ) ) , GIRL )\\n\\ninput: The queen was mailed the rose on a chair in a garden .\\noutput: MAIL ( NONE , ON ( ROSE , IN ( CHAIR , GARDEN ) ) , QUEEN )\\n\\ninput: The cat froze the cake beside a bed on a table .\\noutput: FREEZE ( CAT , BESIDE ( CAKE , ON ( BED , TABLE ) ) , NONE )\\n\\ninput: The queen froze the strawberry in the cabinet beside the shoe on the chair in the box on a road on a rock on a bench in a cage beside the bed on a vessel on the table beside the book .\\n',\n",
       " 'ground_truth': 'FREEZE ( QUEEN , IN ( STRAWBERRY , BESIDE ( CABINET , ON ( SHOE , IN ( CHAIR , ON ( BOX , ON ( ROAD , ON ( ROCK , IN ( BENCH , BESIDE ( CAGE , ON ( BED , ON ( VESSEL , BESIDE ( TABLE , BOOK ) ) ) ) ) ) ) ) ) ) ) ) , NONE )',\n",
       " 'category': 'Deeper Nesting'}"
      ]
     },
     "execution_count": 29,
     "metadata": {},
     "output_type": "execute_result"
    }
   ],
   "source": [
    "dataset2[0]"
   ]
  },
  {
   "cell_type": "code",
   "execution_count": null,
   "metadata": {},
   "outputs": [],
   "source": []
  }
 ],
 "metadata": {
  "kernelspec": {
   "display_name": "lmeval",
   "language": "python",
   "name": "python3"
  },
  "language_info": {
   "codemirror_mode": {
    "name": "ipython",
    "version": 3
   },
   "file_extension": ".py",
   "mimetype": "text/x-python",
   "name": "python",
   "nbconvert_exporter": "python",
   "pygments_lexer": "ipython3",
   "version": "3.10.0"
  }
 },
 "nbformat": 4,
 "nbformat_minor": 2
}
