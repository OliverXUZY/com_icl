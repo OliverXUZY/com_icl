{
 "cells": [
  {
   "cell_type": "code",
   "execution_count": 15,
   "metadata": {},
   "outputs": [],
   "source": [
    "import os\n",
    "os.chdir(\"/Users/zyxu/Documents/py/NLP/com_icl\")\n",
    "import json\n",
    "from datasets import load_dataset\n",
    "cache_dir = \"./cofe/cache\"\n",
    "data_files = 'cofe/only_primitive_coverage.json'\n"
   ]
  },
  {
   "cell_type": "code",
   "execution_count": 20,
   "metadata": {},
   "outputs": [
    {
     "name": "stdout",
     "output_type": "stream",
     "text": [
      "Dataset({\n",
      "    features: ['context', 'ground_truth', 'category'],\n",
      "    num_rows: 4785\n",
      "})\n",
      "input: A rose was helped by a dog .\n",
      "output: HELP ( DOG , ROSE , NONE )\n",
      "\n",
      "input: Skylar gave the donut beside a bench to the girl .\n",
      "output: GIVE ( SKYLAR , BESIDE ( DONUT , BENCH ) , GIRL )\n",
      "\n",
      "input: A girl threw the box on a book .\n",
      "output: THROW ( GIRL , ON ( BOX , BOOK ) , NONE )\n",
      "\n",
      "input: The boy was given the donut in a cage .\n",
      "output: GIVE ( NONE , IN ( DONUT , CAGE ) , BOY )\n",
      "\n",
      "input: The cat burned a cake on a road .\n",
      "output: BURN ( CAT , ON ( CAKE , ROAD ) , NONE )\n",
      "\n",
      "input: Emma ate a donut in the vessel .\n",
      "output: EAT ( EMMA , IN ( DONUT , VESSEL ) , NONE )\n",
      "\n",
      "input: Liam was given the strawberry in a cabinet .\n",
      "output: GIVE ( NONE , IN ( STRAWBERRY , CABINET ) , LIAM )\n",
      "\n",
      "input: The girl was handed the drink beside a rock beside a shoe .\n",
      "output: HAND ( NONE , BESIDE ( DRINK , BESIDE ( ROCK , SHOE ) ) , GIRL )\n",
      "\n",
      "input: The queen was mailed the rose on a chair in a garden .\n",
      "output: MAIL ( NONE , ON ( ROSE , IN ( CHAIR , GARDEN ) ) , QUEEN )\n",
      "\n",
      "input: The cat froze the cake beside a bed on a table .\n",
      "output: FREEZE ( CAT , BESIDE ( CAKE , ON ( BED , TABLE ) ) , NONE )\n",
      "\n",
      "input: The queen froze the strawberry in the cabinet beside the shoe on the chair in the box on a road on a rock on a bench in a cage beside the bed on a vessel on the table beside the book .\n",
      "\n"
     ]
    }
   ],
   "source": [
    "from lm_eval.tasks.cofe import cofe\n",
    "task = cofe()\n",
    "print(task.dataset)\n",
    "print(task.dataset[0]['context'])\n"
   ]
  },
  {
   "cell_type": "code",
   "execution_count": 17,
   "metadata": {},
   "outputs": [],
   "source": [
    "from lm_eval.tasks.nqopen import NQOpen\n",
    "task = NQOpen(cache_dir=cache_dir)"
   ]
  },
  {
   "cell_type": "code",
   "execution_count": 19,
   "metadata": {},
   "outputs": [
    {
     "data": {
      "text/plain": [
       "{'question': 'when was the last time anyone was on the moon',\n",
       " 'answer': ['14 December 1972 UTC', 'December 1972']}"
      ]
     },
     "execution_count": 19,
     "metadata": {},
     "output_type": "execute_result"
    }
   ],
   "source": [
    "task.dataset['validation'][0]"
   ]
  },
  {
   "cell_type": "code",
   "execution_count": 14,
   "metadata": {},
   "outputs": [
    {
     "name": "stdout",
     "output_type": "stream",
     "text": [
      "None\n"
     ]
    }
   ],
   "source": [
    "print(None)"
   ]
  },
  {
   "cell_type": "code",
   "execution_count": null,
   "metadata": {},
   "outputs": [],
   "source": []
  }
 ],
 "metadata": {
  "kernelspec": {
   "display_name": "py39",
   "language": "python",
   "name": "python3"
  },
  "language_info": {
   "codemirror_mode": {
    "name": "ipython",
    "version": 3
   },
   "file_extension": ".py",
   "mimetype": "text/x-python",
   "name": "python",
   "nbconvert_exporter": "python",
   "pygments_lexer": "ipython3",
   "version": "3.10.0"
  }
 },
 "nbformat": 4,
 "nbformat_minor": 2
}
